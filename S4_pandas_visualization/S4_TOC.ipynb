{
 "cells": [
  {
   "cell_type": "markdown",
   "metadata": {},
   "source": [
    "# <h1 align=\"center\" style=\"font-size:300%\">Section 4: Python Libraries</h1>\n",
    "The order of the content and summary important commands of the leasson. "
   ]
  },
  {
   "cell_type": "markdown",
   "metadata": {},
   "source": [
    "## 1. Python Libraries: Numpy and Pandas - Introduction\n",
    "[Numpy and Pandas - Introduction Notebook](./dsc-numpy-and-pandas-section-intro-onl01-dtsc-ft-030220/index.ipynb)\n",
    "\n",
    "[Introducing Python Libraries Notebook](./dsc-introducing-python-libraries-onl01-dtsc-ft-030220/index.ipynb)\n",
    "\n",
    "[Introduction to Numpy Notebook](./dsc-introduction-to-numpy-onl01-dtsc-ft-030220/index.ipynb)\n",
    "\n",
    "[Getting Started with NumPy Notebook](./dsc-getting-started-with-numpy-onl01-dtsc-ft-030220/index.ipynb)\n",
    "\n",
    "[Getting Started with NumPy - Lab](./dsc-getting-started-with-numpy-lab-onl01-dtsc-ft-030220/index.ipynb)\n",
    "\n",
    "<p id=\"demo\"></p>\n",
    "\n",
    "<script>\n",
    "document.getElementById(\"demo\").innerHTML = 5 + 6;\n",
    "</script>"
   ]
  },
  {
   "cell_type": "markdown",
   "metadata": {},
   "source": [
    "### this shit works. but notice that script tag is ignored \n",
    "<!DOCTYPE html>\n",
    "<html>\n",
    "<body>\n",
    "\n",
    "<h3>My First Web Page inside a Jupyter notebook</h3>\n",
    "<p>My First Paragraph.</p>\n",
    "\n",
    "<p id=\"demo\"></p>\n",
    "\n",
    "<script>\n",
    "document.getElementById(\"demo\").innerHTML = \"This is from JS\";\n",
    "</script>\n",
    "\n",
    "</body>\n",
    "</html> "
   ]
  },
  {
   "cell_type": "markdown",
   "metadata": {},
   "source": [
    "## 2. Accessing Data within Pandas\n",
    "[See Notebook](./dsc-accessing-data-with-pandas-onl01-dtsc-ft-030220/index.ipynb)\n",
    "\n",
    "\n",
    "[Accessing Data within Pandas - Lab](./dsc-accessing-data-with-pandas-lab-onl01-dtsc-ft-030220/index.ipynb)"
   ]
  },
  {
   "cell_type": "markdown",
   "metadata": {},
   "source": [
    "## 3.  Importing Data Using Pandas\n",
    "[Importing Data Using Pandas Notebook](./dsc-importing-data-using-pandas-onl01-dtsc-ft-030220/index.ipynb)\n",
    "\n",
    "[Importing Data Using Pandas - Lab](./dsc-importing-data-using-pandas-lab-onl01-dtsc-ft-030220/index.ipynb)"
   ]
  },
  {
   "cell_type": "markdown",
   "metadata": {},
   "source": [
    "## 4. Understanding Pandas Series and DataFrames\n",
    "[See Notebook](./dsc-pandas-series-and-dataframes-onl01-dtsc-ft-030220/index.ipynb)\n",
    "\n",
    "[Understanding Pandas Series and DataFrames - Lab](./dsc-pandas-series-and-dataframes-lab-onl01-dtsc-ft-030220/index.ipynb)"
   ]
  },
  {
   "cell_type": "markdown",
   "metadata": {},
   "source": [
    "## 5. Statistical Methods in Pandas\n",
    "[Statistical Methods in Pandas Notebook](./dsc-statistical-methods-in-pandas-onl01-dtsc-ft-030220/index.ipynb)\n",
    "\n",
    "[Statistical Methods in Pandas - Lab](./dsc-statistical-methods-in-pandas-lab-onl01-dtsc-ft-030220/index.ipynb)"
   ]
  },
  {
   "cell_type": "markdown",
   "metadata": {},
   "source": [
    "## 6. Data Visualization with Pandas\n",
    "[Data Visualization with Pandas Notebook](./dsc-data-visualization-with-pandas-onl01-dtsc-ft-030220/index.ipynb)"
   ]
  },
  {
   "cell_type": "markdown",
   "metadata": {},
   "source": [
    "## 7. Data Privacy and Ethics\n",
    "[See Notebook](./dsc-data-ethics-onl01-dtsc-ft-030220/index.ipynb)"
   ]
  },
  {
   "cell_type": "markdown",
   "metadata": {},
   "source": [
    "## 8. Kaggle and The Boston Housing Dataset\n",
    "[See kaggle dscription](./dsc-kaggle-and-boston-housing-dataset-onl01-dtsc-ft-030220/index.ipynb)\n",
    "\n",
    "[Project - EDA with Pandas Using the Boston Housing Data](./dsc-project-eda-with-pandas-onl01-dtsc-ft-030220/index.ipynb)\n"
   ]
  },
  {
   "cell_type": "markdown",
   "metadata": {},
   "source": [
    "## 9. Python Libraries: Numpy and Pandas - Recap\n",
    "[See Recap](./dsc-numpy-and-pandas-section-recap/index.ipynb)"
   ]
  },
  {
   "cell_type": "code",
   "execution_count": null,
   "metadata": {},
   "outputs": [],
   "source": []
  }
 ],
 "metadata": {
  "kernelspec": {
   "display_name": "Python 3",
   "language": "python",
   "name": "python3"
  },
  "language_info": {
   "codemirror_mode": {
    "name": "ipython",
    "version": 3
   },
   "file_extension": ".py",
   "mimetype": "text/x-python",
   "name": "python",
   "nbconvert_exporter": "python",
   "pygments_lexer": "ipython3",
   "version": "3.6.9"
  },
  "toc": {
   "base_numbering": 1,
   "nav_menu": {},
   "number_sections": true,
   "sideBar": true,
   "skip_h1_title": true,
   "title_cell": "Table of Contents",
   "title_sidebar": "Contents",
   "toc_cell": false,
   "toc_position": {},
   "toc_section_display": true,
   "toc_window_display": false
  }
 },
 "nbformat": 4,
 "nbformat_minor": 2
}
