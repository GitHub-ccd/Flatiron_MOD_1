{
 "cells": [
  {
   "cell_type": "markdown",
   "metadata": {},
   "source": [
    "# Section 7: TOC and Notes\n",
    "\n",
    "The order of the content and summary important commands of the leasson. "
   ]
  },
  {
   "cell_type": "markdown",
   "metadata": {},
   "source": [
    "## 1. SQL and Relational Databases - Introduction\n",
    "[See Notebook](./dsc-sql-introduction-v2-1-onl01-dtsc-ft-030220/index.ipynb)\n",
    "\n"
   ]
  },
  {
   "cell_type": "markdown",
   "metadata": {},
   "source": [
    "## 2. Selecting Data\n",
    "[See Notebook](./dsc-selecting-data-onl01-dtsc-ft-030220/index.ipynb)\n",
    "\n",
    "[See Selecting Data Lab](./dsc-selecting-data-lab-onl01-dtsc-ft-030220/index.ipynb)\n"
   ]
  },
  {
   "cell_type": "markdown",
   "metadata": {},
   "source": [
    "## 3. Filtering and Ordering\n",
    "[See Notebook](./dsc-filtering-and-ordering-onl01-dtsc-ft-030220/index.ipynb)\n",
    "\n",
    "[See Filtering and Ordering Lab](./dsc-filtering-and-ordering-lab-onl01-dtsc-ft-030220/index.ipynb)\n"
   ]
  },
  {
   "cell_type": "markdown",
   "metadata": {},
   "source": [
    "## 4. Grouping Data with SQL\n",
    "[See Notebook](./dsc-grouping-data-with-sql-onl01-dtsc-ft-030220/index.ipynb)\n",
    "\n",
    "[See Grouping Data with SQL Lab](./dsc-grouping-data-with-sql-lab-onl01-dtsc-ft-030220/index.ipynb)"
   ]
  },
  {
   "cell_type": "markdown",
   "metadata": {},
   "source": [
    "## 5. Join Statements\n",
    "[See Notebook](./dsc-join-statements-onl01-dtsc-ft-030220/index.ipynb)\n",
    "\n",
    "[See Join Statements Lab](./dsc-join-statements-lab-onl01-dtsc-ft-030220/index.ipynb)"
   ]
  },
  {
   "cell_type": "markdown",
   "metadata": {},
   "source": [
    "## 6. One-to-Many and Many-to-Many Joins\n",
    "[See Notebook](./dsc-one-to-many-and-many-to-many-joins-onl01-dtsc-ft-030220/index.ipynb)\n",
    "\n",
    "[See One-to-Many and Many-to-Many Joins Lab](./dsc-one-to-many-and-many-to-many-joins-lab-onl01-dtsc-ft-030220/index.ipynb)"
   ]
  },
  {
   "cell_type": "markdown",
   "metadata": {},
   "source": [
    "## 7. SQL Subqueries\n",
    "[See Notebook](./dsc-sql-subqueries-onl01-dtsc-ft-030220/index.ipynb)\n",
    "\n",
    "[See SQL Subqueries Lab](./dsc-sql-subqueries-lab-onl01-dtsc-ft-030220/index.ipynb)"
   ]
  },
  {
   "cell_type": "markdown",
   "metadata": {},
   "source": [
    "## 8. Using SQL with Pandas\n",
    "[See Notebook](./dsc-using-sql-with-pandas-lab-onl01-dtsc-ft-030220/index.ipynb)\n",
    "\n",
    "[See Using SQL with Pandas Lab](./dsc-using-sql-with-pandas-lab-onl01-dtsc-ft-030220/index.ipynb)"
   ]
  },
  {
   "cell_type": "markdown",
   "metadata": {},
   "source": [
    "## 9. SQL Database Data Types\n",
    "[See Notebook](./dsc-sql-database-data-types/index.ipynb)\n",
    "\n",
    "[See SQL Database Data Types Lab](./dsc-using-sql-with-pandas-lab-onl01-dtsc-ft-030220/index.ipynb)"
   ]
  },
  {
   "cell_type": "markdown",
   "metadata": {},
   "source": [
    "## 10. Database Admin 101\n",
    "[See Notebook](./dsc-database-admin-101-onl01-dtsc-ft-030220/index.ipynb)\n",
    "\n",
    "[See Database Admin 101 Lab](./dsc-database-admin-101-lab-onl01-dtsc-ft-030220/index.ipynb)"
   ]
  },
  {
   "cell_type": "markdown",
   "metadata": {},
   "source": [
    "## 11. More Practice with SQL Queries\n",
    "[See More Practice with SQL Queries Lab](./dsc-more-practice-with-sql-queries-lab-onl01-dtsc-ft-030220/index.ipynb)\n",
    "\n",
    "[See SQL Interview Questions - Quiz](./dsc-sql-interview-questions-quiz-onl01-dtsc-ft-030220/index.ipynb)\n",
    "\n",
    "[See SQL Interview Questions Lab](./dsc-sql-interview-questions-lab-onl01-dtsc-ft-030220/index.ipynb)"
   ]
  },
  {
   "cell_type": "markdown",
   "metadata": {},
   "source": [
    "## 12. SQL and Relational Databases - Recap\n",
    "[See Recap notes](./dsc-sql-recap-v2-1-onl01-dtsc-ft-030220/index.ipynb)"
   ]
  },
  {
   "cell_type": "code",
   "execution_count": null,
   "metadata": {},
   "outputs": [],
   "source": []
  }
 ],
 "metadata": {
  "kernelspec": {
   "display_name": "Python 3",
   "language": "python",
   "name": "python3"
  },
  "language_info": {
   "codemirror_mode": {
    "name": "ipython",
    "version": 3
   },
   "file_extension": ".py",
   "mimetype": "text/x-python",
   "name": "python",
   "nbconvert_exporter": "python",
   "pygments_lexer": "ipython3",
<<<<<<< HEAD
   "version": "3.6.9"
  },
  "toc": {
   "base_numbering": 1,
   "nav_menu": {},
   "number_sections": true,
   "sideBar": true,
   "skip_h1_title": false,
   "title_cell": "Table of Contents",
   "title_sidebar": "Contents",
   "toc_cell": false,
   "toc_position": {},
   "toc_section_display": true,
   "toc_window_display": false
=======
   "version": "3.7.7"
>>>>>>> c24f79e8e9e795cef272487de5b3b3d6bfb309e7
  }
 },
 "nbformat": 4,
 "nbformat_minor": 2
}
