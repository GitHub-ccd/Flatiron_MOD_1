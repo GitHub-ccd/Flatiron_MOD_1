{
 "cells": [
  {
   "cell_type": "markdown",
   "metadata": {},
   "source": [
    "# Section 7: SQL\n",
    "\n",
    "\n",
    "[sql-introduction](./dsc-sql-introduction-v2-1-onl01-dtsc-ft-030220/index.ipynb)\n",
    "\n",
    "[selecting-data](./dsc-selecting-data-onl01-dtsc-ft-030220/index.ipynb)\n",
    "\n",
    "[selecting-data-lab](./dsc-selecting-data-lab-onl01-dtsc-ft-030220/index.ipynb)\n",
    "\n",
    "[filtering-and-ordering](./dsc-filtering-and-ordering-onl01-dtsc-ft-030220/index.ipynb)\n",
    "\n",
    "[filtering-and-ordering-lab](./dsc-filtering-and-ordering-lab-onl01-dtsc-ft-030220/index.ipynb)\n",
    "\n",
    "[grouping-data-with-sql](./dsc-grouping-data-with-sql-onl01-dtsc-ft-030220/index.ipynb)\n",
    "\n",
    "[grouping-data-with-sql-lab](./dsc-grouping-data-with-sql-lab-onl01-dtsc-ft-030220/index.ipynb)\n",
    "\n",
    "[join-statements](./dsc-join-statements-onl01-dtsc-ft-030220/index.ipynb)\n",
    "\n",
    "[join-statements-lab](./dsc-join-statements-lab-onl01-dtsc-ft-030220/index.ipynb)\n",
    "\n",
    "[one-to-many-and-many-to-many-joins](./dsc-one-to-many-and-many-to-many-joins-onl01-dtsc-ft-030220/index.ipynb)\n",
    "\n",
    "[one-to-many-and-many-to-many-joins-lab](./dsc-one-to-many-and-many-to-many-joins-lab-onl01-dtsc-ft-030220/index.ipynb)\n",
    "\n",
    "[sql-subqueries](./dsc-sql-subqueries-onl01-dtsc-ft-030220/index.ipynb)\n",
    "\n",
    "[sql-subqueries-lab](./dsc-sql-subqueries-lab-onl01-dtsc-ft-030220/index.ipynb)\n",
    "\n",
    "[using-sql-with-pandas](./dsc-using-sql-with-pandas-onl01-dtsc-ft-030220/index.ipynb)\n",
    "\n",
    "[using-sql-with-pandas-lab](./dsc-using-sql-with-pandas-lab-onl01-dtsc-ft-030220/index.ipynb)\n",
    "\n",
    "[dsc-sql-database-data-types](./dsc-sql-database-data-types/index.ipynb)\n",
    "\n",
    "[database-admin-101](./dsc-database-admin-101-onl01-dtsc-ft-030220/index.ipynb)\n",
    "\n",
    "[database-admin-101-lab](./dsc-database-admin-101-lab-onl01-dtsc-ft-030220/index.ipynb)\n",
    "\n",
    "[more-practice-with-sql-queries-lab](./dsc-more-practice-with-sql-queries-lab-onl01-dtsc-ft-030220/index.ipynb)\n",
    "\n",
    "[sql-interview-questions-quiz](./dsc-sql-interview-questions-quiz-onl01-dtsc-ft-030220/index.ipynb)\n",
    "\n",
    "[sql-interview-questions-lab](./dsc-sql-interview-questions-lab-onl01-dtsc-ft-030220/index.ipynb)\n",
    "\n",
    "[sql-recap](./dsc-sql-recap-v2-1-onl01-dtsc-ft-030220/index.ipynb)"
   ]
  },
  {
   "cell_type": "code",
   "execution_count": null,
   "metadata": {},
   "outputs": [],
   "source": []
  }
 ],
 "metadata": {
  "kernelspec": {
   "display_name": "Python [conda env:learn-env] *",
   "language": "python",
   "name": "conda-env-learn-env-py"
  },
  "language_info": {
   "codemirror_mode": {
    "name": "ipython",
    "version": 3
   },
   "file_extension": ".py",
   "mimetype": "text/x-python",
   "name": "python",
   "nbconvert_exporter": "python",
   "pygments_lexer": "ipython3",
   "version": "3.7.7"
  }
 },
 "nbformat": 4,
 "nbformat_minor": 4
}
