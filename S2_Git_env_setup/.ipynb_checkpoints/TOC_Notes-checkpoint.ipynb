{
 "cells": [
  {
   "cell_type": "markdown",
   "metadata": {},
   "source": [
    "# Section 2: Bash and Git env setup TOC and Notes\n",
    "\n",
    "The order of the content and summary important commands of the leasson. "
   ]
  },
  {
   "cell_type": "markdown",
   "metadata": {},
   "source": [
    "\n",
    "[Bash and Git - Introduction](./dsc-git-bash-collab-intro-onl01-dtsc-ft-030220/index.ipynb)\n",
    "\n",
    "\n"
   ]
  },
  {
   "cell_type": "markdown",
   "metadata": {},
   "source": [
    "\n",
    "[The Bash Shell](./dsc-bash-shell-onl01-dtsc-ft-030220/index.ipynb)\n",
    "\n",
    "\n",
    "[Git Version Control 101](./dsc-git-version-control-101-onl01-dtsc-ft-030220/index.ipynb)"
   ]
  },
  {
   "cell_type": "markdown",
   "metadata": {},
   "source": [
    "\n",
    "[Getting Started with Git](./dsc-git-intro-onl01-dtsc-ft-030220/index.ipynb)\n",
    "\n"
   ]
  },
  {
   "cell_type": "markdown",
   "metadata": {},
   "source": [
    "[Quiz: Git Basics](./dsc-git-intro-qz/index.ipynb)\n",
    "\n",
    "\n",
    "\n",
    "[Practicing Git](./dsc-git-practice-onl01-dtsc-ft-030220/index.ipynb)"
   ]
  },
  {
   "cell_type": "markdown",
   "metadata": {},
   "source": [
    "\n",
    "[Collaborating with Git Branches](./dsc-git-branches-onl01-dtsc-ft-030220/index.ipynb)\n",
    "\n",
    "\n",
    "\n",
    "[Git Merge - Lab](./dsc-git-merge-lab-onl01-dtsc-ft-030220/index.ipynb)"
   ]
  },
  {
   "cell_type": "markdown",
   "metadata": {},
   "source": [
    "\n",
    "[Git Stash - Lab](./dsc-git-stash-lab-onl01-dtsc-ft-030220/index.ipynb)\n",
    "\n",
    "[Git Resources](./dsc-git-resources-onl01-dtsc-ft-030220/README.md)\n",
    "\n",
    "[Code Best Practices: PEP8](./dsc-dealing-missing-data-lab-onl01-dtsc-ft-030220/index.ipynb)"
   ]
  },
  {
   "cell_type": "markdown",
   "metadata": {},
   "source": [
    "\n",
    "[Bash and Git - Recap](./dsc-git-collab-recap-onl01-dtsc-ft-030220/index.ipynb)\n"
   ]
  }
 ],
 "metadata": {
  "kernelspec": {
   "display_name": "Python 3",
   "language": "python",
   "name": "python3"
  },
  "language_info": {
   "codemirror_mode": {
    "name": "ipython",
    "version": 3
   },
   "file_extension": ".py",
   "mimetype": "text/x-python",
   "name": "python",
   "nbconvert_exporter": "python",
   "pygments_lexer": "ipython3",
   "version": "3.6.9"
  },
  "toc": {
   "base_numbering": 1,
   "nav_menu": {},
   "number_sections": true,
   "sideBar": true,
   "skip_h1_title": true,
   "title_cell": "Table of Contents",
   "title_sidebar": "Contents",
   "toc_cell": false,
   "toc_position": {},
   "toc_section_display": true,
   "toc_window_display": false
  }
 },
 "nbformat": 4,
 "nbformat_minor": 2
}
