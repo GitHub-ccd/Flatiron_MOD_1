{
 "cells": [
  {
   "cell_type": "markdown",
   "metadata": {},
   "source": [
    "# Section 5: TOC and Notes\n",
    "\n",
    "The order of the content and summary important commands of the leasson. "
   ]
  },
  {
   "cell_type": "markdown",
   "metadata": {},
   "source": [
    "## 1. Data Cleaning in Pandas - Introduction\n",
    "[See Notebook](./dsc-introduction-pandas-etl-onl01-dtsc-ft-030220/index.ipynb)\n",
    "\n",
    "\n",
    "Extract Transform Load (ETL) --> primary tool is pandas. <br>\n",
    "df = pd.read_csv('Yelp_Reviews.csv', index_col=0)<br>\n",
    "df['Review_Word_Length'] = df['text'].map(lambda x: len(x.split())) # apply function to col <br>\n",
    "df.groupby('business_id')['stars'].mean().head() # Group data <br>\n",
    "df[df.duplicated(keep=False)].sort_values(by='business_id') # Use the keep=False to keep the duplicates and sort values to put  duplicates next to each other <br>\n",
    "df = df[df.duplicated()] # remove duplicates <br> \n",
    "// Pivot table [wikipeida](https://en.wikipedia.org/wiki/Pivot_table) <br>\n",
    "usr_reviews = df.pivot(index='user_id', columns='business_id', values='stars') # Here user_id are the rows and business_id are cols number of stars are in the cell. Some cells will be NaN. "
   ]
  },
  {
   "cell_type": "markdown",
   "metadata": {},
   "source": [
    "## 2. Lambda Functions\n",
    "[See Notebook](./dsc-lambda-functions-onl01-dtsc-ft-030220/index.ipynb)\n",
    "\n",
    "throw-away functions on the fly <br>\n",
    "df['text'].map(lambda x: len(x.split())).head() # labda Fn example <br>\n",
    "df['text'].map(lambda x: 'Good' if any([word in x.lower() for word in ['awesome', 'love', 'good', 'great']]) else 'Bad').head() # Lambda Fn--> t is an interesting demonstration of chaining a conditional, any method, and a list comprehension all inside a lambda function!<br>\n",
    "df.date.map(lambda x: x[:4]).head() # ways to access df cols are many I guess ?? <br>\n",
    "sorted(names, key=lambda x: x.split()[1]) # because in names there are First and Last name <br>\n",
    "\n",
    "[See Lab](./dsc-lambda-functions-lab-onl01-dtsc-ft-030220/index.ipynb)"
   ]
  },
  {
   "cell_type": "markdown",
   "metadata": {},
   "source": [
    "## 3. Pandas Groupby \n",
    "[See Notebook](./dsc-pandas-groupby-onl01-dtsc-ft-030220/index.ipynb)\n",
    "\n",
    "df.groupby('Sex') <==> df.groupby(df['Sex'])<br>   # equivalent statements \n",
    "df.groupby('Sex').sum()     # use an <b>aggregation function</b> by chaining the call to the end <br>\n",
    "* .min(): returns the minimum value for each column by group\n",
    "* .max(): returns the maximum value for each column by group\n",
    "* .mean(): returns the average value for each column by group\n",
    "* .median(): returns the median value for each column by group\n",
    "* .count(): returns the count of each column by group\n",
    "\n",
    "df.groupby(['Sex', 'Pclass']).mean()   #  <b>Multiple groups</b>\n",
    "grouped = df.groupby(['Sex', 'Pclass'])['Survived'].mean()   <br>\n",
    "print(grouped['female'])  <br>"
   ]
  },
  {
   "cell_type": "markdown",
   "metadata": {},
   "source": [
    "## 4. Combining DataFrames with Pandas\n",
    "[See Notebook](./dsc-combining-dataframes-pandas-onl01-dtsc-ft-030220/index.ipynb)\n",
    "\n",
    "When thinking about joins, it is easy to conceptualize them as Venn diagrams.\n",
    "\n",
    "* An <b>Outer Join</b> returns all records from both tables\n",
    "* An <b>Inner Join</b> returns only the records with matching keys in both tables\n",
    "* A <b>Left Join</b> returns all the records from the left table, as well as any records from the right table that have a matching key with a record from the left table\n",
    "* A <b>Right Join</b> returns all the records from the right table, as well as any records from the left table that have a matching key with a record from the right table\n",
    "\n",
    "joined_df = df1.join(df2, how='inner')    # df1 inner join df2 <br>\n",
    "\n",
    "[See Lab](./dsc-combining-dataframes-pandas-lab-onl01-dtsc-ft-030220/index.ipynb)"
   ]
  },
  {
   "cell_type": "markdown",
   "metadata": {},
   "source": [
    "## 5. Pivot Tables With Pandas\n",
    "[See Notebook](./dsc-pivot-tables-pandas-onl01-dtsc-ft-030220/index.ipynb)\n",
    "\n",
    "* <b>Wide</b> format = each column is a variable and each row is observation ; <b>Long</b> format =  each index is a point in time for each observation\n",
    "* <b>flattened</b> index structures =  \n",
    "* <b>multi-hierarchical</b> index structures = structuring our data with multiple levels of indexes, allowing us to cleanly and easily represent different combinations of data\n",
    "some_dataframe.pivot(index='State', columns='Gender', values='Deaths_mean')<br>\n",
    ".stack() and unstack() methods <br>\n",
    "\n",
    "[See Lab](./dsc-pivot-tables-pandas-lab-onl01-dtsc-ft-030220/index.ipynb)"
   ]
  },
  {
   "cell_type": "markdown",
   "metadata": {},
   "source": [
    "## 6. Dealing with Missing Data\n",
    "[See Notebook](./dsc-dealing-missing-data-onl01-dtsc-ft-030220/index.ipynb)\n",
    "\n",
    "\n",
    "///Take Notes later\n",
    "\n",
    "[Take the Quiz](./dsc-dealing-missing-data-quiz/README.md)\n",
    "\n",
    "[See Lab](./dsc-dealing-missing-data-lab-onl01-dtsc-ft-030220/index.ipynb)"
   ]
  },
  {
   "cell_type": "markdown",
   "metadata": {},
   "source": [
    "## 7. More on Missing Data \n",
    "[See Notebook](./dsc-more-on-missing-data-onl01-dtsc-ft-030220/index.ipynb)\n",
    "\n",
    "// add notes here later\n",
    "\n",
    "[See Lab](./dsc-more-on-missing-data-lab-onl01-dtsc-ft-030220/index.ipynb)"
   ]
  },
  {
   "cell_type": "markdown",
   "metadata": {},
   "source": [
    "## 8. Project - Data Cleaning\n",
    "[See Project](./dsc-data-cleaning-project-onl01-dtsc-ft-030220/index.ipynb)\n",
    "\n",
    "Project summary......"
   ]
  },
  {
   "cell_type": "markdown",
   "metadata": {},
   "source": [
    "## 9. Data Cleaning in Pandas - Recap\n",
    "[See Notebook](./dsc-summary-data-cleaning-pandas-onl01-dtsc-ft-030220/index.ipynb)\n",
    "summary notes"
   ]
  },
  {
   "cell_type": "markdown",
   "metadata": {},
   "source": [
    "## 10. The 3-17-2020 study group code along\n",
    "\n",
    "[See Notebook](./Groupby_StudyGroup_codealong.ipynb)"
   ]
  },
  {
   "cell_type": "code",
   "execution_count": null,
   "metadata": {},
   "outputs": [],
   "source": []
  }
 ],
 "metadata": {
  "kernelspec": {
   "display_name": "Python 3",
   "language": "python",
   "name": "python3"
  },
  "language_info": {
   "codemirror_mode": {
    "name": "ipython",
    "version": 3
   },
   "file_extension": ".py",
   "mimetype": "text/x-python",
   "name": "python",
   "nbconvert_exporter": "python",
   "pygments_lexer": "ipython3",
   "version": "3.8.3"
  }
 },
 "nbformat": 4,
 "nbformat_minor": 2
}
