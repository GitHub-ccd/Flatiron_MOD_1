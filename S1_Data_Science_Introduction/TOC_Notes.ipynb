{
 "cells": [
  {
   "cell_type": "markdown",
   "metadata": {},
   "source": [
    "# Section 1: TOC and Notes\n",
    "\n",
    "The order of the content and summary important commands of the leasson. "
   ]
  },
  {
   "cell_type": "markdown",
   "metadata": {},
   "source": [
    "## Getting Started with Data Science - Introduction\n",
    "[See Introduction Notebook](./dsc-introduction-section-intro-onl01-dtsc-ft-030220/index.ipynb)\n",
    "\n",
    "[See Problems Data Science Can Solve Notebook](./dsc-problems-data-science-can-solve-onl01-dtsc-ft-030220/index.ipynb)\n",
    "\n",
    "[See The Data Science Process Notebook](./dsc-the-data-science-process-onl01-dtsc-ft-030220/index.ipynb)\n",
    "\n",
    "[See Working with Lessons on Learn Notebook](./dsc-learn-lessons-onl01-dtsc-ft-030220/index.ipynb)\n",
    "\n",
    "[See Working with Lessons on Learn Lab](./dsc-learn-lessons-lab-onl01-dtsc-ft-030220/index.ipynb)\n",
    "\n",
    "[See Your First Data Science Codealong!](./dsc-first-codealong-onl01-dtsc-ft-030220/index.ipynb)"
   ]
  },
  {
   "cell_type": "markdown",
   "metadata": {},
   "source": [
    "## Setting up a Professional Data Science Environment\n",
    "[See Environment lab](./dsc-data-science-env-installation-v2-1-onl01-dtsc-ft-030220/README.ipynb)\n",
    "\n",
    "[See Environment lab2](./dsc-data-science-env-setup-v2-1-onl01-dtsc-ft-030220/README.ipynb)\n",
    "These README.md 's don't work. Go to the folder. "
   ]
  },
  {
   "cell_type": "markdown",
   "metadata": {},
   "source": [
    "## Introduction to python\n",
    "[Introduction to Variables: Variable Assignment Notebook](./dsc-variable-assignment-intro-onl01-dtsc-ft-030220/index.ipynb)\n",
    "\n",
    "[Introduction to Variables: Strings Notebook](./dsc-strings-onl01-dtsc-ft-030220/index.ipynb)\n",
    "\n",
    "[Introduction to Variables: Strings Lab](./dsc-strings-lab-onl01-dtsc-ft-030220/index.ipynb)\n",
    "\n",
    "[Introduction to Variables: Numeric Types and Booleans Notebook](./dsc-floats-ints-booleans-onl01-dtsc-ft-030220/index.ipynb)\n",
    "\n",
    "[Introduction to Variables: Strings and Numeric Types Lab](./dsc-strings-floats-ints-lab-onl01-dtsc-ft-030220/index.ipynb)\n",
    "\n",
    "[Introduction to Variables: Variable Assignment Lab](./dsc-variable-assignment-lab-onl01-dtsc-ft-030220/index.ipynb)\n"
   ]
  },
  {
   "cell_type": "markdown",
   "metadata": {},
   "source": [
    "##  Python Control Flow statements\n",
    "[Conditionals Notebook](./dsc-conditionals-onl01-dtsc-ft-030220/index.ipynb)<br>\n",
    "[Conditionals Lab](./dsc-conditionals-lab-onl01-dtsc-ft-030220/index.ipynb)\n",
    "\n",
    "[Working with Lists Notebook](./dsc-lists-onl01-dtsc-ft-030220/index.ipynb)<br>\n",
    "[Working with Lists Lab](./dsc-lists-lab-onl01-dtsc-ft-030220/index.ipynb)\n",
    "\n",
    "[Working With Dictionaries Notebook](./dsc-dictionaries-onl01-dtsc-ft-030220/index.ipynb)<br>\n",
    "[Working With Dictionaries Lab](./dsc-dictionaries-lab-onl01-dtsc-ft-030220/index.ipynb)\n",
    "\n",
    "[Looping Over Collections Notebook](./dsc-looping-over-collections-onl01-dtsc-ft-030220/index.ipynb)<br>\n",
    "[Looping Over Collections Lab](./dsc-looping-over-collections-lab-onl01-dtsc-ft-030220/index.ipynb)\n",
    "\n",
    "[Data Visualization Notebook](./dsc-data-viz-onl01-dtsc-ft-030220/index.ipynb)<br>\n",
    "[Data Visualization Lab](./dsc-data-viz-lab-onl01-dtsc-ft-030220/index.ipynb)\n"
   ]
  },
  {
   "cell_type": "markdown",
   "metadata": {},
   "source": [
    "## Project: Analyzing Macbeth\n",
    "[Project Notebook](./dsc-analyzing-macbeth-project-v2-1-onl01-dtsc-ft-030220/index.ipynb)\n",
    "\n",
    "[Getting Started with Data Science - Recap Notebook](./dsc-pandas-data-cleaning-recap-onl01-dtsc-ft-030220/index.ipynb)"
   ]
  },
  {
   "cell_type": "code",
   "execution_count": null,
   "metadata": {},
   "outputs": [],
   "source": []
  }
 ],
 "metadata": {
  "kernelspec": {
   "display_name": "Python 3",
   "language": "python",
   "name": "python3"
  },
  "language_info": {
   "codemirror_mode": {
    "name": "ipython",
    "version": 3
   },
   "file_extension": ".py",
   "mimetype": "text/x-python",
   "name": "python",
   "nbconvert_exporter": "python",
   "pygments_lexer": "ipython3",
   "version": "3.7.7"
  },
  "toc": {
   "base_numbering": 1,
   "nav_menu": {},
   "number_sections": true,
   "sideBar": true,
   "skip_h1_title": true,
   "title_cell": "Table of Contents",
   "title_sidebar": "Contents",
   "toc_cell": false,
   "toc_position": {},
   "toc_section_display": true,
   "toc_window_display": false
  }
 },
 "nbformat": 4,
 "nbformat_minor": 2
}
