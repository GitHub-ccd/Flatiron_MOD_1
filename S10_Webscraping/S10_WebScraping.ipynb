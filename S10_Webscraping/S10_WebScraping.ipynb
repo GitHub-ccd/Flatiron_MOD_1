{
 "cells": [
  {
   "cell_type": "markdown",
   "metadata": {},
   "source": [
    "# Section 10 - WebScraping lessons and labs\n",
    "\n",
    "[html-css-scraping-intro](./dsc-html-css-scraping-intro-onl01-dtsc-ft-030220/index.ipynb)<br>\n",
    "\n",
    "\n",
    "[html-introduction](./dsc-html-introduction-onl01-dtsc-ft-030220/index.ipynb)<br>\n",
    "\n",
    "\n",
    "[html-introduction-lab](./dsc-html-introduction-lab-onl01-dtsc-ft-030220/index.ipynb)<br>\n",
    "\n",
    "\n",
    "[researching-html-elements](./dsc-researching-html-elements-onl01-dtsc-ft-030220/index.ipynb)<br>\n",
    "\n",
    "\n",
    "[separating-content-and-presentation](./dsc-separating-content-and-presentation-onl01-dtsc-ft-030220/index.ipynb)<br>\n",
    "\n",
    "\n",
    "[intro-to-css](./dsc-intro-to-css-onl01-dtsc-ft-030220/index.ipynb)<br>\n",
    "\n",
    "\n",
    "[css-code-along](./dsc-css-code-along-onl01-dtsc-ft-030220/index.ipynb)<br>\n",
    "\n",
    "\n",
    "[https://github.com/learn-co-curriculum/my-little-rainbow-lab](./https://github.com/learn-co-curriculum/dsc-my-little-rainbow-lab/index.ipynb)<br>\n",
    "\n",
    "\n",
    "[https://github.com/learn-co-curriculum/my-little-rainbow-lab](./https://github.com/learn-co-curriculum/dsc-my-little-rainbow-lab/index.ipynb)<br>\n",
    "\n",
    "\n",
    "[web-scraping-with-beautiful-soup](./dsc-web-scraping-with-beautiful-soup-onl01-dtsc-ft-030220/index.ipynb)<br>\n",
    "\n",
    "\n",
    "[web-scraping-in-practice](./dsc-web-scraping-in-practice-onl01-dtsc-ft-030220/index.ipynb)<br>\n",
    "\n",
    "\n",
    "[web-scraping-lab](./dsc-web-scraping-lab-onl01-dtsc-ft-030220/index.ipynb)<br>\n",
    "\n",
    "\n",
    "[https://github.com/learn-co-curriculum/web-scraping-lab/tree/solution](./https://github.com/learn-co-curriculum/dsc-web-scraping-lab/tree/solution/index.ipynb)<br>\n",
    "\n",
    "\n",
    "[scraping-images](./dsc-scraping-images-onl01-dtsc-ft-030220/index.ipynb)<br>\n",
    "\n",
    "\n",
    "[scraping-concerts-lab](./dsc-scraping-concerts-lab-onl01-dtsc-ft-030220/index.ipynb)<br>\n",
    "\n",
    "\n",
    "[https://github.com/learn-co-curriculum/scraping-concerts-lab/tree/solution](./https://github.com/learn-co-curriculum/dsc-scraping-concerts-lab/tree/solution/index.ipynb)<br>\n",
    "\n",
    "\n",
    "[html-css-scraping-recap](./dsc-html-css-scraping-recap-onl01-dtsc-ft-030220/index.ipynb)<br>\n",
    "\n"
   ]
  },
  {
   "cell_type": "code",
   "execution_count": null,
   "metadata": {},
   "outputs": [],
   "source": []
  }
 ],
 "metadata": {
  "kernelspec": {
   "display_name": "Python 3",
   "language": "python",
   "name": "python3"
  },
  "language_info": {
   "codemirror_mode": {
    "name": "ipython",
    "version": 3
   },
   "file_extension": ".py",
   "mimetype": "text/x-python",
   "name": "python",
   "nbconvert_exporter": "python",
   "pygments_lexer": "ipython3",
   "version": "3.7.4"
  },
  "toc": {
   "base_numbering": 1,
   "nav_menu": {},
   "number_sections": true,
   "sideBar": true,
   "skip_h1_title": true,
   "title_cell": "Table of Contents",
   "title_sidebar": "Contents",
   "toc_cell": false,
   "toc_position": {},
   "toc_section_display": true,
   "toc_window_display": false
  }
 },
 "nbformat": 4,
 "nbformat_minor": 2
}
