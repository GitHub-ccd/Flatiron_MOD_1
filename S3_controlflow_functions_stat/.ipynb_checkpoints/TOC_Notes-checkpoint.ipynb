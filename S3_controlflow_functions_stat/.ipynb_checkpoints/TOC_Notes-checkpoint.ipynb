{
 "cells": [
  {
   "cell_type": "markdown",
   "metadata": {},
   "source": [
    "# <u>Section 3: Control flow, Functions, and Statistics: TOC and Notes</u>\n",
    "\n",
    "The order of the content and summary important commands of the leasson. \n",
    "(markup tricks __bold__ or **bold** and _italic_ or *italic*)"
   ]
  },
  {
   "cell_type": "markdown",
   "metadata": {},
   "source": [
    "# __Control flow and Functions__"
   ]
  },
  {
   "cell_type": "markdown",
   "metadata": {},
   "source": [
    "## 1. Introduction\n",
    "[Control flow, Functions, and Statistics - Introduction](./dsc-python-section-intro-onl01-dtsc-ft-030220/index.ipynb)\n",
    "\n",
    "[Built-in Python Operators, Functions and Methods](./dsc-python-operators-functions-and-methods-onl01-dtsc-ft-030220/index.ipynb)\n",
    "\n",
    "[Built-in Python Operators, Functions and Methods Lab](./dsc-python-operators-functions-and-methods-lab-onl01-dtsc-ft-030220/index.ipynb)\n"
   ]
  },
  {
   "cell_type": "markdown",
   "metadata": {},
   "source": [
    "## 2. Loops, Break and Continue\n",
    "[While Loops Notebook](./dsc-while-loops-break-and-continue-onl01-dtsc-ft-030220/index.ipynb)<br>\n",
    "[While Loops Lab](./dsc-while-loops-break-and-continue-lab-onl01-dtsc-ft-030220/index.ipynb)\n",
    "\n",
    "[Nested Loops Notebook](./dsc-using-nested-loops-onl01-dtsc-ft-030220/index.ipynb)<br>\n",
    "[Nested Loops Lab](./dsc-using-nested-loops-lab-onl01-dtsc-ft-030220/index.ipynb)"
   ]
  },
  {
   "cell_type": "markdown",
   "metadata": {},
   "source": [
    "## 3. Functions\n",
    "[Creating Functions Notebook](./dsc-creating-functions-onl01-dtsc-ft-030220/index.ipynb)<br>\n",
    "[Creating Functions Lab](./dsc-creating-functions-lab-onl01-dtsc-ft-030220/index.ipynb)\n",
    "\n",
    "[Functions with Arguments Notebook](./dsc-functions-with-arguments-onl01-dtsc-ft-030220/index.ipynb)<br>\n",
    "[Functions with Arguments Lab](./dsc-functions-with-arguments-lab-onl01-dtsc-ft-030220/index.ipynb)"
   ]
  },
  {
   "cell_type": "markdown",
   "metadata": {},
   "source": [
    "## 4. python I/O\n",
    "[See Notebook](./dsc-user-input-and-output-in-python-onl01-dtsc-ft-030220/index.ipynb)\n",
    "\n",
    "No designated lab. Can add in some extra materials from web "
   ]
  },
  {
   "cell_type": "markdown",
   "metadata": {},
   "source": [
    "# **Statistics**"
   ]
  },
  {
   "cell_type": "markdown",
   "metadata": {},
   "source": [
    "## 5. Statistics introduction\n",
    "[Mathematical Notation Notebook](./dsc-mathematical-notation-onl01-dtsc-ft-030220/index.ipynb)\n",
    "\n",
    "[Measures of Central Tendency Notebook](./dsc-measures-of-central-tendency-onl01-dtsc-ft-030220/index.ipynb)<br>\n",
    "[Measures of Central Tendency - Quiz](./dsc-measures-of-central-tendency-quiz/README.md)\n",
    "\n",
    "[Measures of Dispersion Notebook](./dsc-measures-of-dispersion-onl01-dtsc-ft-030220/index.ipynb)<br>\n",
    "[Measures of Dispersion Notebook](./dsc-measures-of-dispersion-quiz/README.md)\n",
    "\n",
    "[Implementing Statistics with Functions - Lab](./dsc-implementing-statistics-with-functions-lab-onl01-dtsc-ft-030220/index.ipynb)"
   ]
  },
  {
   "cell_type": "markdown",
   "metadata": {},
   "source": [
    "## 6. Covariance and Correlation \n",
    "[Covariance and Correlation Notebook](./dsc-correlation-covariance-onl01-dtsc-ft-030220/index.ipynb)\n",
    "\n",
    "[Covariance and Correlation - Lab](./dsc-correlation-covariance-lab-onl01-dtsc-ft-030220/index.ipynb)"
   ]
  },
  {
   "cell_type": "markdown",
   "metadata": {},
   "source": [
    "## 7. Control flow, Functions, and Statistics - Recap\n",
    "[See Notebook](./dsc-python-section-recap/index.ipynb)\n"
   ]
  },
  {
   "cell_type": "code",
   "execution_count": null,
   "metadata": {},
   "outputs": [],
   "source": []
  }
 ],
 "metadata": {
  "kernelspec": {
   "display_name": "Python 3",
   "language": "python",
   "name": "python3"
  },
  "language_info": {
   "codemirror_mode": {
    "name": "ipython",
    "version": 3
   },
   "file_extension": ".py",
   "mimetype": "text/x-python",
   "name": "python",
   "nbconvert_exporter": "python",
   "pygments_lexer": "ipython3",
   "version": "3.6.9"
  }
 },
 "nbformat": 4,
 "nbformat_minor": 2
}
