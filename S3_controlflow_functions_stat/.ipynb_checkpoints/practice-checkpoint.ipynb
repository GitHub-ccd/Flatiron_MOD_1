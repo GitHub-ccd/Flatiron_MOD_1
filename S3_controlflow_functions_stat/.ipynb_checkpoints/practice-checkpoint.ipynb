{
 "cells": [
  {
   "cell_type": "code",
   "execution_count": 6,
   "metadata": {},
   "outputs": [
    {
     "name": "stdout",
     "output_type": "stream",
     "text": [
      "['xgc8qnman8so3-ID', 'oo7052mi2p5r2-IN', 'g80c1j19c12p-IN', 'jcyb4ozn87q63-PL', 'pew7nsb-PL', 'pxvsdsb-PL', '5kdkydfo-UA']\n"
     ]
    }
   ],
   "source": [
    "lst = ['xgc8qnman8so3-ID', 'oo7052mi2p5r2-IN', 'g80c1j19c12p-IN', 'jcyb4ozn87q63-PL', 'pew7nsb-PL', 'pxvsdsb-PL', '5kdkydfo-UA']\n",
    "print(lst)"
   ]
  },
  {
   "cell_type": "code",
   "execution_count": 8,
   "metadata": {},
   "outputs": [],
   "source": [
    "IDset = ([x[-2:] for x in lst])"
   ]
  },
  {
   "cell_type": "code",
   "execution_count": null,
   "metadata": {},
   "outputs": [],
   "source": []
  }
 ],
 "metadata": {
  "kernelspec": {
   "display_name": "Python [conda env:learn-env] *",
   "language": "python",
   "name": "conda-env-learn-env-py"
  },
  "language_info": {
   "codemirror_mode": {
    "name": "ipython",
    "version": 3
   },
   "file_extension": ".py",
   "mimetype": "text/x-python",
   "name": "python",
   "nbconvert_exporter": "python",
   "pygments_lexer": "ipython3",
   "version": "3.7.7"
  }
 },
 "nbformat": 4,
 "nbformat_minor": 4
}
