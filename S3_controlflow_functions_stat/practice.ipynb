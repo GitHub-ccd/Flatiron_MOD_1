{
 "cells": [
  {
   "cell_type": "code",
   "execution_count": 6,
   "metadata": {},
   "outputs": [
    {
     "name": "stdout",
     "output_type": "stream",
     "text": [
      "['xgc8qnman8so3-ID', 'oo7052mi2p5r2-IN', 'g80c1j19c12p-IN', 'jcyb4ozn87q63-PL', 'pew7nsb-PL', 'pxvsdsb-PL', '5kdkydfo-UA']\n"
     ]
    }
   ],
   "source": [
    "lst = ['xgc8qnman8so3-ID', 'oo7052mi2p5r2-IN', 'g80c1j19c12p-IN', 'jcyb4ozn87q63-PL', 'pew7nsb-PL', 'pxvsdsb-PL', '5kdkydfo-UA']\n",
    "print(lst)"
   ]
  },
  {
   "cell_type": "code",
   "execution_count": 10,
   "metadata": {},
   "outputs": [],
   "source": [
    "IDset = set([x[-2:] for x in lst])"
   ]
  },
  {
   "cell_type": "code",
   "execution_count": 11,
   "metadata": {},
   "outputs": [
    {
     "data": {
      "text/plain": [
       "{'ID', 'IN', 'PL', 'UA'}"
      ]
     },
     "execution_count": 11,
     "metadata": {},
     "output_type": "execute_result"
    }
   ],
   "source": [
    "IDset"
   ]
  },
  {
   "cell_type": "code",
   "execution_count": 16,
   "metadata": {},
   "outputs": [
    {
     "name": "stdout",
     "output_type": "stream",
     "text": [
      "prime\n"
     ]
    }
   ],
   "source": [
    "# function to find prime numbers \n",
    "# find x is prime or not\n",
    "\n",
    "\n",
    "def is_prime(num):\n",
    "    flag = 0\n",
    "    for i in range(2,num):\n",
    "        if num % i == 0:\n",
    "            flag = 1\n",
    "        \n",
    "    if flag == 0:\n",
    "        print(\"prime\")\n",
    "    else:\n",
    "        print(\"not prime\")\n",
    "            \n",
    "is_prime(5)"
   ]
  },
  {
   "cell_type": "code",
   "execution_count": null,
   "metadata": {},
   "outputs": [],
   "source": [
    "3 3 8 8 \n",
    "= 24 \n",
    "\n",
    "* / - + \n",
    "\n"
   ]
  },
  {
   "cell_type": "code",
   "execution_count": null,
   "metadata": {},
   "outputs": [],
   "source": [
    "     *\n",
    "    ***\n",
    "   *****\n",
    "  *******"
   ]
  },
  {
   "cell_type": "code",
   "execution_count": null,
   "metadata": {},
   "outputs": [],
   "source": [
    "n=4\n",
    "for i in range(1,n):\n",
    "    for j in range(1,7):\n",
    "        "
   ]
  }
 ],
 "metadata": {
  "kernelspec": {
   "display_name": "Python [conda env:learn-env] *",
   "language": "python",
   "name": "conda-env-learn-env-py"
  },
  "language_info": {
   "codemirror_mode": {
    "name": "ipython",
    "version": 3
   },
   "file_extension": ".py",
   "mimetype": "text/x-python",
   "name": "python",
   "nbconvert_exporter": "python",
   "pygments_lexer": "ipython3",
   "version": "3.7.7"
  }
 },
 "nbformat": 4,
 "nbformat_minor": 4
}
