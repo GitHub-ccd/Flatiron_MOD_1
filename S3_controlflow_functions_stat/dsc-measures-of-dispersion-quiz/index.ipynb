{
 "cells": [
  {
   "cell_type": "markdown",
   "metadata": {},
   "source": [
    "# Measures of Dispersion - Quiz\n",
    "\n",
    "???\n",
    "\n",
    "# Measures of Dispersion\n",
    "\n",
    "?: Summary statistics for two samples of data are\n",
    "\n",
    "Sample 1:    \n",
    "mean = 19\n",
    "variance = 10\n",
    "\n",
    "Sample 2:    \n",
    "mean = 10\n",
    "variance = 19\n",
    "\n",
    "Which sample has the larger spread of observations?\n",
    "\n",
    "( ) Sample 1\n",
    "(X) Sample 2\n",
    "\n",
    "?: Consider the following unordered set of data:\n",
    "\n",
    "`4 4 4 9 5 0 5 1 5 3 5 7 5 8 6 2 6 6 6 6 6 8 7 1 7 5 7 7 8 0 8 5`\n",
    "\n",
    "What is the InterQuartile Range (IQR) for this dataset?\n",
    "\n",
    "( ) 2\n",
    "(X) 3\n",
    "( ) 3.5\n",
    "( ) 4.25\n",
    "\n",
    "?: Imagine that the number of marriages registered over a 10 year period were as follows:\n",
    "\n",
    "Table 1. Number of registered marriages\n",
    "\n",
    "| Year | Number of Marriages |\n",
    "|:----:|:-------------------:|\n",
    "|   1  |        40,650       |\n",
    "|   2  |        40,812       |\n",
    "|   3  |        41,300       |\n",
    "|   4  |        41,450       |\n",
    "|   5  |        39,594       |\n",
    "|   6  |        40,734       |\n",
    "|   7  |        39,993       |\n",
    "|   8  |        38,814       |\n",
    "|   9  |        37,828       |\n",
    "|  10  |        35,716       |\n",
    "\n",
    "What is the median number of marriages?\n",
    "\n",
    "( ) 41,886\n",
    "( ) 38,997\n",
    "( ) 39,594\n",
    "(X) 40,321\n",
    "\n",
    "???\n"
   ]
  },
  {
   "cell_type": "code",
   "execution_count": null,
   "metadata": {},
   "outputs": [],
   "source": []
  }
 ],
 "metadata": {
  "kernelspec": {
   "display_name": "Python [conda env:learn-env] *",
   "language": "python",
   "name": "conda-env-learn-env-py"
  },
  "language_info": {
   "codemirror_mode": {
    "name": "ipython",
    "version": 3
   },
   "file_extension": ".py",
   "mimetype": "text/x-python",
   "name": "python",
   "nbconvert_exporter": "python",
   "pygments_lexer": "ipython3",
   "version": "3.7.7"
  }
 },
 "nbformat": 4,
 "nbformat_minor": 4
}
