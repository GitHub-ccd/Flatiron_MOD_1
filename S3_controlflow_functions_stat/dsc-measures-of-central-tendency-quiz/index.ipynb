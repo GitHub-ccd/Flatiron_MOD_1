{
 "cells": [
  {
   "cell_type": "markdown",
   "metadata": {},
   "source": [
    "# Measures of Central Tendency\n",
    "\n",
    "\n",
    "While we recommend using Python to find the answers to these questions, it is not required. You are more than welcome to use a calculator or pencil and paper to solve them, too.\n",
    "\n",
    "???\n",
    "\n",
    "# Quiz - Measures of Central Tendency\n",
    "\n",
    "?: What is the mean for the following dataset: 19, 18, 21, 16, 15, 17, 20, 18 ?\n",
    "\n",
    "(X) 18\n",
    "( ) 16.5\n",
    "( ) 16\n",
    "( ) 18.5\n",
    "\n",
    "?: What is the median for the following dataset: 22, 56, 11, 4, -17, 6, 80 ?\n",
    "\n",
    "( ) 4\n",
    "( ) -17\n",
    "(X) 11\n",
    "( ) 8.5\n",
    "\n",
    "?: What is the median for the following dataset: 22, 56, 11, 4, -17, 6, 80, -126 ?\n",
    "\n",
    "( ) 4\n",
    "( ) -17\n",
    "( ) 11\n",
    "(X) 8.5\n",
    "\n",
    "?: What is the mode of the following dataset: 19, 18, 21, 16, 15, 17, 20, 18 ?\n",
    "\n",
    "(X) 18\n",
    "( ) 16.5\n",
    "( ) 16\n",
    "( ) 18.5\n",
    "\n",
    "?: Out of mean, median, and mode, which is most sensitive to outliers in the data?\n",
    "\n",
    "( ) Median\n",
    "(X) Mean\n",
    "( ) Mode\n",
    "\n",
    "?: Out of mean, median, and mode, which is least sensitive to outliers in the data?\n",
    "\n",
    "( ) Median\n",
    "( ) Mean\n",
    "(X) Mode\n",
    "\n",
    "???\n"
   ]
  },
  {
   "cell_type": "code",
   "execution_count": null,
   "metadata": {},
   "outputs": [],
   "source": []
  }
 ],
 "metadata": {
  "kernelspec": {
   "display_name": "Python [conda env:learn-env] *",
   "language": "python",
   "name": "conda-env-learn-env-py"
  },
  "language_info": {
   "codemirror_mode": {
    "name": "ipython",
    "version": 3
   },
   "file_extension": ".py",
   "mimetype": "text/x-python",
   "name": "python",
   "nbconvert_exporter": "python",
   "pygments_lexer": "ipython3",
   "version": "3.7.7"
  }
 },
 "nbformat": 4,
 "nbformat_minor": 4
}
