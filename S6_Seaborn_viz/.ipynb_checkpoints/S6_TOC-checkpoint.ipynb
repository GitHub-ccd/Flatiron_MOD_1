{
 "cells": [
  {
   "cell_type": "markdown",
   "metadata": {},
   "source": [
    "# Section 6: TOC and Notes\n",
    "\n",
    "The order of the content and summary important commands of the leasson. "
   ]
  },
  {
   "cell_type": "markdown",
   "metadata": {},
   "source": [
    "## Data Visualization - Introduction\n",
    "[See Notebook](./dsc-visualizations-section-intro-onl01-dtsc-ft-030220/index.ipynb)\n",
    "\n",
    "advanced visualization library = Seaborn, Matplotlib."
   ]
  },
  {
   "cell_type": "markdown",
   "metadata": {},
   "source": [
    "## Customizing Visualizations with Matplotlib\n",
    "[See Notebook](./dsc-more-practice-with-matplotlib-onl01-dtsc-ft-030220/index.ipynb)\n",
    "\n",
    "\n",
    "\n",
    "[See Customizing Visualizations with Matplotlib Lab](./dsc-more-practice-with-matplotlib-lab-onl01-dtsc-ft-030220/index.ipynb)<br>\n",
    "[See Subplots and Enumeration Lab](./dsc-subplots-and-enumeration-lab-onl01-dtsc-ft-030220/index.ipynb)"
   ]
  },
  {
   "cell_type": "markdown",
   "metadata": {},
   "source": [
    "## Data Visualization - Best Practices and Common Mistakes\n",
    "[See Notebook](./dsc-data-viz-best-practices-common-mistakes-onl01-dtsc-ft-030220/index.ipynb)\n",
    "\n"
   ]
  },
  {
   "cell_type": "markdown",
   "metadata": {},
   "source": [
    "## Seaborn \n",
    "[See Notebook](./dsc-seaborn-onl01-dtsc-ft-030220/index.ipynb)\n",
    "\n",
    "\n",
    "\n",
    "[See Seaborn Lab](./dsc-seaborn-lab-onl01-dtsc-ft-030220/index.ipynb)<br>\n"
   ]
  },
  {
   "cell_type": "markdown",
   "metadata": {},
   "source": [
    "## Data Visualization - Recap\n",
    "[See Notebook](./dsc-visualizations-section-recap-onl01-dtsc-ft-030220/index.ipynb)"
   ]
  },
  {
   "cell_type": "markdown",
   "metadata": {},
   "source": [
    "## special lecture of Plotly by Rafael\n",
    "[see lab](./additional-topic-plotly/plotly.ipynb)"
   ]
  }
 ],
 "metadata": {
  "kernelspec": {
   "display_name": "Python 3",
   "language": "python",
   "name": "python3"
  },
  "language_info": {
   "codemirror_mode": {
    "name": "ipython",
    "version": 3
   },
   "file_extension": ".py",
   "mimetype": "text/x-python",
   "name": "python",
   "nbconvert_exporter": "python",
   "pygments_lexer": "ipython3",
   "version": "3.6.9"
  },
  "toc": {
   "base_numbering": 1,
   "nav_menu": {},
   "number_sections": true,
   "sideBar": true,
   "skip_h1_title": true,
   "title_cell": "Table of Contents",
   "title_sidebar": "Contents",
   "toc_cell": false,
   "toc_position": {},
   "toc_section_display": true,
   "toc_window_display": false
  }
 },
 "nbformat": 4,
 "nbformat_minor": 2
}
