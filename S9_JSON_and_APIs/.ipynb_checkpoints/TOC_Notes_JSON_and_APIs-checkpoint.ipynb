{
 "cells": [
  {
   "cell_type": "markdown",
   "metadata": {},
   "source": [
    "# Section 9: TOC and Notes\n",
    "\n",
    "In this section, you’ll learn about an additional data type: JSON (which stands for JavaScript Object Notation), as well as APIs (Application Programming Interfaces)."
   ]
  },
  {
   "cell_type": "markdown",
   "metadata": {},
   "source": [
    "## 1.  JSON and APIs - Introduction\n",
    "[See Notebook](./dsc-json-apis-intro-v2-1-onl01-dtsc-ft-030220/index.ipynb)\n",
    "\n",
    "Whether it’s from an API or a NoSQL store, it's quite possible that some of the data you find yourself working with will be stored using JSON. In this section, you'll build the confidence to be able to import and transform such data.\n",
    "\n",
    "Also, many companies provide access to their data via an API, so being able to connect to and work with data provided via an API is a critical skill as a professional data scientist!\n"
   ]
  },
  {
   "cell_type": "markdown",
   "metadata": {},
   "source": [
    "## 2.  JSON\n",
    "\n",
    "[See Notebook](./dsc-json-v2-1-onl01-dtsc-ft-030220/index.ipynb)\n",
    "Use the JSON module to load and parse JSON documents\n",
    "\n",
    "[See JSON Lab](./dsc-json-lab-v2-1-onl01-dtsc-ft-030220/index.ipynb)\n"
   ]
  },
  {
   "cell_type": "markdown",
   "metadata": {},
   "source": [
    "## 3. Working with Known JSON Schemas\n",
    "[See Notebook](./dsc-working-with-known-json-schemas-onl01-dtsc-ft-030220/index.ipynb)\n",
    "\n",
    "[See Working with Known JSON Schemas Lab](./dsc-working-with-known-json-schemas-lab-onl01-dtsc-ft-030220/index.ipynb)\n"
   ]
  },
  {
   "cell_type": "markdown",
   "metadata": {},
   "source": [
    "## 4. Exploring and Transforming JSON Schemas\n",
    "[See Notebook](./dsc-exploring-and-transforming-json-schemas-onl01-dtsc-ft-030220/index.ipynb)\n",
    "\n",
    "[See Exploring and Transforming JSON Schemas Lab](./dsc-exploring-and-transforming-json-schemas-lab-onl01-dtsc-ft-030220/index.ipynb)"
   ]
  },
  {
   "cell_type": "markdown",
   "metadata": {},
   "source": [
    "## 5. \n",
    "[See Notebook](./dsc-join-statements-onl01-dtsc-ft-030220/index.ipynb)\n",
    "\n",
    "[See Join Statements Lab](./dsc-join-statements-lab-onl01-dtsc-ft-030220/index.ipynb)"
   ]
  },
  {
   "cell_type": "markdown",
   "metadata": {},
   "source": [
    "## 6. \n",
    "[See Notebook](./dsc-one-to-many-and-many-to-many-joins-onl01-dtsc-ft-030220/index.ipynb)\n",
    "\n",
    "[See One-to-Many and Many-to-Many Joins Lab](./dsc-one-to-many-and-many-to-many-joins-lab-onl01-dtsc-ft-030220/index.ipynb)"
   ]
  },
  {
   "cell_type": "markdown",
   "metadata": {},
   "source": [
    "## 7. \n",
    "[See Notebook](./dsc-sql-subqueries-onl01-dtsc-ft-030220/index.ipynb)\n",
    "\n",
    "[See SQL Subqueries Lab](./dsc-sql-subqueries-lab-onl01-dtsc-ft-030220/index.ipynb)"
   ]
  },
  {
   "cell_type": "markdown",
   "metadata": {},
   "source": [
    "## 8. \n",
    "[See Notebook](./dsc-using-sql-with-pandas-lab-onl01-dtsc-ft-030220/index.ipynb)\n",
    "\n",
    "[See Using SQL with Pandas Lab](./dsc-using-sql-with-pandas-lab-onl01-dtsc-ft-030220/index.ipynb)"
   ]
  },
  {
   "cell_type": "markdown",
   "metadata": {},
   "source": [
    "## 9. \n",
    "[See Notebook](./dsc-sql-database-data-types/index.ipynb)\n",
    "\n",
    "[See SQL Database Data Types Lab](./dsc-using-sql-with-pandas-lab-onl01-dtsc-ft-030220/index.ipynb)"
   ]
  },
  {
   "cell_type": "markdown",
   "metadata": {},
   "source": [
    "## 10. \n",
    "[See Notebook](./dsc-database-admin-101-onl01-dtsc-ft-030220/index.ipynb)\n",
    "\n",
    "[See Database Admin 101 Lab](./dsc-database-admin-101-lab-onl01-dtsc-ft-030220/index.ipynb)"
   ]
  },
  {
   "cell_type": "markdown",
   "metadata": {},
   "source": [
    "## 11. \n",
    "[See More Practice with SQL Queries Lab](./dsc-more-practice-with-sql-queries-lab-onl01-dtsc-ft-030220/index.ipynb)\n",
    "\n",
    "[See SQL Interview Questions - Quiz](./dsc-sql-interview-questions-quiz-onl01-dtsc-ft-030220/index.ipynb)\n",
    "\n",
    "[See SQL Interview Questions Lab](./dsc-sql-interview-questions-lab-onl01-dtsc-ft-030220/index.ipynb)"
   ]
  },
  {
   "cell_type": "markdown",
   "metadata": {},
   "source": [
    "## 12. \n",
    "[See Recap notes](./dsc-sql-recap-v2-1-onl01-dtsc-ft-030220/index.ipynb)"
   ]
  },
  {
   "cell_type": "markdown",
   "metadata": {},
   "source": [
    "# practice projects"
   ]
  },
  {
   "cell_type": "markdown",
   "metadata": {},
   "source": [
    "<!DOCTYPE html>\n",
    "<html>\n",
    "<body>\n",
    "\n",
    "<h2>Basic HTML Table and Markup the Jupyter notebook</h2>\n",
    "\n",
    "<table style=\"width:100%\">\n",
    "  <tr>\n",
    "    <th>Firstname</th>\n",
    "    <th>Lastname</th> \n",
    "    <th>Age</th>\n",
    "  </tr>\n",
    "  <tr>\n",
    "    <td>Jill</td>\n",
    "    <td>Smith</td>\n",
    "    <td>50</td>\n",
    "  </tr>\n",
    "  <tr>\n",
    "    <td>Eve</td>\n",
    "    <td>Jackson</td>\n",
    "    <td>94</td>\n",
    "  </tr>\n",
    "  <tr>\n",
    "    <td>John</td>\n",
    "    <td>Doe</td>\n",
    "    <td>80</td>\n",
    "  </tr>\n",
    "</table>"
   ]
  },
  {
   "cell_type": "code",
   "execution_count": null,
   "metadata": {},
   "outputs": [],
   "source": [
    "# import a webpage\n",
    "from urllib import request\n",
    "with request.urlopen('http://python.org/') as response:\n",
    "   html = response.read()\n",
    "#html"
   ]
  },
  {
   "cell_type": "code",
   "execution_count": 14,
   "metadata": {},
   "outputs": [],
   "source": [
    "# Python google search ---> don't work\n",
    "import requests, sys, webbrowser, bs4\n",
    "search_str='chamila dharmawardhana'\n",
    "res = requests.get('https://google.com/search?q='+''.join(search_str))\n",
    "res.raise_for_status()\n",
    "soup = bs4.BeautifulSoup(res.text, \"html.parser\")\n",
    "linkElements = soup.select('.r a')\n",
    "linkToOpen = min(5, len(linkElements))\n",
    "for i in range(linkToOpen):\n",
    "    webbrowser.open('https://google.com'+linkElements[i].get('href'))"
   ]
  },
  {
   "cell_type": "code",
   "execution_count": null,
   "metadata": {},
   "outputs": [],
   "source": []
  }
 ],
 "metadata": {
  "kernelspec": {
   "display_name": "Python 3",
   "language": "python",
   "name": "python3"
  },
  "language_info": {
   "codemirror_mode": {
    "name": "ipython",
    "version": 3
   },
   "file_extension": ".py",
   "mimetype": "text/x-python",
   "name": "python",
   "nbconvert_exporter": "python",
   "pygments_lexer": "ipython3",
   "version": "3.6.9"
  }
 },
 "nbformat": 4,
 "nbformat_minor": 2
}
